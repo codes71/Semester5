{
 "cells": [
  {
   "cell_type": "code",
   "execution_count": 3,
   "metadata": {},
   "outputs": [
    {
     "name": "stdout",
     "output_type": "stream",
     "text": [
      "3.5\n"
     ]
    }
   ],
   "source": [
    "list = [3,3,3,4,4,4]\n",
    "mean= sum(list)/len(list)\n",
    "print(mean)"
   ]
  },
  {
   "cell_type": "code",
   "execution_count": 4,
   "metadata": {},
   "outputs": [
    {
     "name": "stdout",
     "output_type": "stream",
     "text": [
      "List is :  [1, 2, 3, 4, 5, 4, 3, 2, 6, 7, 4, 2, 23, 6, 13, 23, 5, 6, 43, 3, 4, 5, 3453]\n"
     ]
    }
   ],
   "source": [
    "import random\n",
    "numList = [1,2,3,4,5,4,3,2,6,7,4,2,23,6,13,23,5,6,43,3,4,5,3453]\n",
    "\n",
    "print(\"List is : \", numList)"
   ]
  },
  {
   "cell_type": "code",
   "execution_count": 5,
   "metadata": {},
   "outputs": [
    {
     "name": "stdout",
     "output_type": "stream",
     "text": [
      "157.69565217391303\n",
      "23\n"
     ]
    }
   ],
   "source": [
    "sumofList = sum(numList)\n",
    "n = len(numList)\n",
    "mean = sumofList/n\n",
    "print(mean)\n",
    "print(n)"
   ]
  },
  {
   "cell_type": "code",
   "execution_count": 6,
   "metadata": {},
   "outputs": [
    {
     "name": "stdout",
     "output_type": "stream",
     "text": [
      "2\n"
     ]
    }
   ],
   "source": [
    "if n%2 == 0: \n",
    "    m1 = numList[n//2]\n",
    "    m2 = numList[n//2-1]\n",
    "    median = (m1+m2)/2\n",
    "else:\n",
    "    median = numList[n//2]\n",
    "    \n",
    "print(median)\n",
    "    "
   ]
  },
  {
   "cell_type": "code",
   "execution_count": 7,
   "metadata": {},
   "outputs": [
    {
     "ename": "TypeError",
     "evalue": "'list' object is not callable",
     "output_type": "error",
     "traceback": [
      "\u001b[0;31m---------------------------------------------------------------------------\u001b[0m",
      "\u001b[0;31mTypeError\u001b[0m                                 Traceback (most recent call last)",
      "Cell \u001b[0;32mIn[7], line 4\u001b[0m\n\u001b[1;32m      2\u001b[0m val \u001b[38;5;241m=\u001b[39m Counter(numList)\n\u001b[1;32m      3\u001b[0m findMode \u001b[38;5;241m=\u001b[39m \u001b[38;5;28mdict\u001b[39m(val)\n\u001b[0;32m----> 4\u001b[0m mode   \u001b[38;5;241m=\u001b[39m \u001b[43m[\u001b[49m\u001b[43mi\u001b[49m\u001b[43m \u001b[49m\u001b[38;5;28;43;01mfor\u001b[39;49;00m\u001b[43m \u001b[49m\u001b[43mi\u001b[49m\u001b[43m,\u001b[49m\u001b[43mv\u001b[49m\u001b[43m \u001b[49m\u001b[38;5;129;43;01min\u001b[39;49;00m\u001b[43m \u001b[49m\u001b[43mfindMode\u001b[49m\u001b[38;5;241;43m.\u001b[39;49m\u001b[43mitems\u001b[49m\u001b[43m(\u001b[49m\u001b[43m)\u001b[49m\u001b[43m \u001b[49m\u001b[38;5;28;43;01mif\u001b[39;49;00m\u001b[43m \u001b[49m\u001b[43mv\u001b[49m\u001b[38;5;241;43m==\u001b[39;49m\u001b[43m \u001b[49m\u001b[38;5;28;43mmax\u001b[39;49m\u001b[43m(\u001b[49m\u001b[38;5;28;43mlist\u001b[39;49m\u001b[43m(\u001b[49m\u001b[43mval\u001b[49m\u001b[38;5;241;43m.\u001b[39;49m\u001b[43mvalues\u001b[49m\u001b[43m(\u001b[49m\u001b[43m)\u001b[49m\u001b[43m)\u001b[49m\u001b[43m)\u001b[49m\u001b[43m]\u001b[49m\n\u001b[1;32m      6\u001b[0m \u001b[38;5;28;01mif\u001b[39;00m \u001b[38;5;28mlen\u001b[39m(mode) \u001b[38;5;241m==\u001b[39m n:\n\u001b[1;32m      7\u001b[0m     findMode \u001b[38;5;241m=\u001b[39m \u001b[38;5;124m\"\u001b[39m\u001b[38;5;124mThis group has no mode\u001b[39m\u001b[38;5;124m\"\u001b[39m\n",
      "Cell \u001b[0;32mIn[7], line 4\u001b[0m, in \u001b[0;36m<listcomp>\u001b[0;34m(.0)\u001b[0m\n\u001b[1;32m      2\u001b[0m val \u001b[38;5;241m=\u001b[39m Counter(numList)\n\u001b[1;32m      3\u001b[0m findMode \u001b[38;5;241m=\u001b[39m \u001b[38;5;28mdict\u001b[39m(val)\n\u001b[0;32m----> 4\u001b[0m mode   \u001b[38;5;241m=\u001b[39m [i \u001b[38;5;28;01mfor\u001b[39;00m i,v \u001b[38;5;129;01min\u001b[39;00m findMode\u001b[38;5;241m.\u001b[39mitems() \u001b[38;5;28;01mif\u001b[39;00m v\u001b[38;5;241m==\u001b[39m \u001b[38;5;28mmax\u001b[39m(\u001b[38;5;28;43mlist\u001b[39;49m\u001b[43m(\u001b[49m\u001b[43mval\u001b[49m\u001b[38;5;241;43m.\u001b[39;49m\u001b[43mvalues\u001b[49m\u001b[43m(\u001b[49m\u001b[43m)\u001b[49m\u001b[43m)\u001b[49m)]\n\u001b[1;32m      6\u001b[0m \u001b[38;5;28;01mif\u001b[39;00m \u001b[38;5;28mlen\u001b[39m(mode) \u001b[38;5;241m==\u001b[39m n:\n\u001b[1;32m      7\u001b[0m     findMode \u001b[38;5;241m=\u001b[39m \u001b[38;5;124m\"\u001b[39m\u001b[38;5;124mThis group has no mode\u001b[39m\u001b[38;5;124m\"\u001b[39m\n",
      "\u001b[0;31mTypeError\u001b[0m: 'list' object is not callable"
     ]
    }
   ],
   "source": [
    "from collections import Counter\n",
    "val = Counter(numList)\n",
    "findMode = dict(val)\n",
    "mode   = [i for i,v in findMode.items() if v== max(list(val.values()))]\n",
    "\n",
    "if len(mode) == n:\n",
    "    findMode = \"This group has no mode\"\n",
    "else:\n",
    "    findMode = \"the mode is are :\"+','.join(map(str,mode))\n",
    "\n",
    "print(findMode)\n"
   ]
  },
  {
   "cell_type": "code",
   "execution_count": null,
   "metadata": {},
   "outputs": [
    {
     "data": {
      "text/plain": [
       "157.69565217391303"
      ]
     },
     "execution_count": 8,
     "metadata": {},
     "output_type": "execute_result"
    }
   ],
   "source": [
    "import statistics as stat\n",
    "stat.mean(numList)"
   ]
  },
  {
   "cell_type": "code",
   "execution_count": null,
   "metadata": {},
   "outputs": [
    {
     "data": {
      "text/plain": [
       "4"
      ]
     },
     "execution_count": 9,
     "metadata": {},
     "output_type": "execute_result"
    }
   ],
   "source": [
    "stat.mode(numList)"
   ]
  },
  {
   "cell_type": "code",
   "execution_count": null,
   "metadata": {},
   "outputs": [],
   "source": [
    "import pandas as pd\n"
   ]
  },
  {
   "cell_type": "code",
   "execution_count": null,
   "metadata": {},
   "outputs": [
    {
     "name": "stdout",
     "output_type": "stream",
     "text": [
      "  player  game1  game2  game3  game4\n",
      "0      A     12     23     11      5\n",
      "1      B     43     12      8      6\n",
      "2      C     23     15     10      7\n",
      "3      D     12     17      6      2\n",
      "4      E     42     17      6      3\n",
      "5      F     12     81      8      2\n",
      "6      G     52     12      9     17\n",
      "7      H     12     12     12      3\n"
     ]
    }
   ],
   "source": [
    "df = pd.DataFrame({\n",
    "    'player':['A','B','C','D','E','F','G','H'],\n",
    "    'game1':[12,43,23,12,42,12,52,12],\n",
    "    'game2':[23,12,15,17,17,81,12,12],\n",
    "    'game3':[11,8,10,6,6,8,9,12],\n",
    "    'game4':[5,6,7,2,3,2,17,3]\n",
    "})\n",
    "print(df)"
   ]
  },
  {
   "cell_type": "code",
   "execution_count": null,
   "metadata": {},
   "outputs": [
    {
     "data": {
      "text/plain": [
       "game1    26.000\n",
       "game2    23.625\n",
       "game3     8.750\n",
       "game4     5.625\n",
       "dtype: float64"
      ]
     },
     "execution_count": 4,
     "metadata": {},
     "output_type": "execute_result"
    }
   ],
   "source": [
    "df.mean(numeric_only=True)"
   ]
  },
  {
   "cell_type": "code",
   "execution_count": null,
   "metadata": {},
   "outputs": [
    {
     "data": {
      "text/plain": [
       "game1    17.5\n",
       "game2    16.0\n",
       "game3     8.5\n",
       "game4     4.0\n",
       "dtype: float64"
      ]
     },
     "execution_count": 5,
     "metadata": {},
     "output_type": "execute_result"
    }
   ],
   "source": [
    "df.median(numeric_only=True)"
   ]
  },
  {
   "cell_type": "code",
   "execution_count": null,
   "metadata": {},
   "outputs": [
    {
     "data": {
      "text/html": [
       "<div>\n",
       "<style scoped>\n",
       "    .dataframe tbody tr th:only-of-type {\n",
       "        vertical-align: middle;\n",
       "    }\n",
       "\n",
       "    .dataframe tbody tr th {\n",
       "        vertical-align: top;\n",
       "    }\n",
       "\n",
       "    .dataframe thead th {\n",
       "        text-align: right;\n",
       "    }\n",
       "</style>\n",
       "<table border=\"1\" class=\"dataframe\">\n",
       "  <thead>\n",
       "    <tr style=\"text-align: right;\">\n",
       "      <th></th>\n",
       "      <th>game1</th>\n",
       "      <th>game2</th>\n",
       "      <th>game3</th>\n",
       "      <th>game4</th>\n",
       "    </tr>\n",
       "  </thead>\n",
       "  <tbody>\n",
       "    <tr>\n",
       "      <th>0</th>\n",
       "      <td>12.0</td>\n",
       "      <td>12.0</td>\n",
       "      <td>6</td>\n",
       "      <td>2</td>\n",
       "    </tr>\n",
       "    <tr>\n",
       "      <th>1</th>\n",
       "      <td>NaN</td>\n",
       "      <td>NaN</td>\n",
       "      <td>8</td>\n",
       "      <td>3</td>\n",
       "    </tr>\n",
       "  </tbody>\n",
       "</table>\n",
       "</div>"
      ],
      "text/plain": [
       "   game1  game2  game3  game4\n",
       "0   12.0   12.0      6      2\n",
       "1    NaN    NaN      8      3"
      ]
     },
     "execution_count": 6,
     "metadata": {},
     "output_type": "execute_result"
    }
   ],
   "source": [
    "df.mode(numeric_only=True)"
   ]
  },
  {
   "cell_type": "code",
   "execution_count": null,
   "metadata": {},
   "outputs": [
    {
     "ename": "NameError",
     "evalue": "name 'numList' is not defined",
     "output_type": "error",
     "traceback": [
      "\u001b[0;31m---------------------------------------------------------------------------\u001b[0m",
      "\u001b[0;31mNameError\u001b[0m                                 Traceback (most recent call last)",
      "Cell \u001b[0;32mIn[2], line 2\u001b[0m\n\u001b[1;32m      1\u001b[0m \u001b[38;5;28;01mimport\u001b[39;00m \u001b[38;5;21;01mnumpy\u001b[39;00m \u001b[38;5;28;01mas\u001b[39;00m \u001b[38;5;21;01mnp\u001b[39;00m\n\u001b[0;32m----> 2\u001b[0m np\u001b[38;5;241m.\u001b[39mmean(\u001b[43mnumList\u001b[49m)\n",
      "\u001b[0;31mNameError\u001b[0m: name 'numList' is not defined"
     ]
    }
   ],
   "source": [
    "import numpy as np\n",
    "np.mean(numList)"
   ]
  },
  {
   "cell_type": "code",
   "execution_count": null,
   "metadata": {},
   "outputs": [
    {
     "data": {
      "text/plain": [
       "np.float64(5.0)"
      ]
     },
     "execution_count": 12,
     "metadata": {},
     "output_type": "execute_result"
    }
   ],
   "source": [
    "np.median(numList)"
   ]
  },
  {
   "cell_type": "code",
   "execution_count": null,
   "metadata": {},
   "outputs": [
    {
     "ename": "NameError",
     "evalue": "name 'numList' is not defined",
     "output_type": "error",
     "traceback": [
      "\u001b[0;31m---------------------------------------------------------------------------\u001b[0m",
      "\u001b[0;31mNameError\u001b[0m                                 Traceback (most recent call last)",
      "Cell \u001b[0;32mIn[1], line 2\u001b[0m\n\u001b[1;32m      1\u001b[0m \u001b[38;5;28;01mfrom\u001b[39;00m \u001b[38;5;21;01mscipy\u001b[39;00m \u001b[38;5;28;01mimport\u001b[39;00m stats\n\u001b[0;32m----> 2\u001b[0m stats\u001b[38;5;241m.\u001b[39mmode(\u001b[43mnumList\u001b[49m)\n",
      "\u001b[0;31mNameError\u001b[0m: name 'numList' is not defined"
     ]
    }
   ],
   "source": [
    "from scipy import stats\n",
    "stats.mode(numList)"
   ]
  },
  {
   "cell_type": "code",
   "execution_count": 9,
   "metadata": {},
   "outputs": [],
   "source": [
    "import pandas as pd\n",
    "df = pd.read_csv('datasets/winequality-red.csv')"
   ]
  },
  {
   "cell_type": "code",
   "execution_count": 10,
   "metadata": {},
   "outputs": [
    {
     "name": "stdout",
     "output_type": "stream",
     "text": [
      "5.637218045112782\n",
      "6.0\n",
      "0    5\n",
      "Name: quality, dtype: int64\n"
     ]
    }
   ],
   "source": [
    "meanQ = df[\"quality\"].mean()\n",
    "medianQ = df[\"quality\"].median()\n",
    "modeQ = df[\"quality\"].mode()\n",
    "print(meanQ)\n",
    "print(medianQ)\n",
    "print(modeQ)\n"
   ]
  },
  {
   "cell_type": "code",
   "execution_count": 14,
   "metadata": {},
   "outputs": [
    {
     "data": {
      "text/plain": [
       "ModeResult(mode=np.int64(5), count=np.int64(680))"
      ]
     },
     "execution_count": 14,
     "metadata": {},
     "output_type": "execute_result"
    }
   ],
   "source": [
    "stats.mode(df[\"quality\"])"
   ]
  },
  {
   "cell_type": "code",
   "execution_count": 12,
   "metadata": {},
   "outputs": [
    {
     "data": {
      "text/plain": [
       "fixed acidity            8.314160\n",
       "volatile acidity         0.527954\n",
       "citric acid              0.270276\n",
       "residual sugar           2.535558\n",
       "chlorides                0.087120\n",
       "free sulfur dioxide     15.858396\n",
       "total sulfur dioxide    46.382206\n",
       "density                  0.996744\n",
       "pH                       3.311917\n",
       "sulphates                0.656385\n",
       "alcohol                 10.421147\n",
       "quality                  5.637218\n",
       "dtype: float64"
      ]
     },
     "execution_count": 12,
     "metadata": {},
     "output_type": "execute_result"
    }
   ],
   "source": [
    "df.mean(numeric_only=True)"
   ]
  },
  {
   "cell_type": "code",
   "execution_count": 15,
   "metadata": {},
   "outputs": [],
   "source": [
    "cor = df.corr()"
   ]
  },
  {
   "cell_type": "code",
   "execution_count": 16,
   "metadata": {},
   "outputs": [
    {
     "name": "stdout",
     "output_type": "stream",
     "text": [
      "Correlation                       fixed acidity  volatile acidity  citric acid  \\\n",
      "fixed acidity              1.000000         -0.255155     0.673008   \n",
      "volatile acidity          -0.255155          1.000000    -0.554503   \n",
      "citric acid                0.673008         -0.554503     1.000000   \n",
      "residual sugar             0.106105          0.003957     0.139208   \n",
      "chlorides                  0.093876          0.064332     0.185893   \n",
      "free sulfur dioxide       -0.157011         -0.010077    -0.065745   \n",
      "total sulfur dioxide      -0.116725          0.077515     0.033206   \n",
      "density                    0.670895          0.022390     0.363162   \n",
      "pH                        -0.685062          0.235119    -0.537645   \n",
      "sulphates                  0.185061         -0.269707     0.306241   \n",
      "alcohol                   -0.073644         -0.201160     0.108285   \n",
      "quality                    0.127766         -0.391735     0.233733   \n",
      "\n",
      "                      residual sugar  chlorides  free sulfur dioxide  \\\n",
      "fixed acidity               0.106105   0.093876            -0.157011   \n",
      "volatile acidity            0.003957   0.064332            -0.010077   \n",
      "citric acid                 0.139208   0.185893            -0.065745   \n",
      "residual sugar              1.000000   0.053401             0.186203   \n",
      "chlorides                   0.053401   1.000000            -0.005569   \n",
      "free sulfur dioxide         0.186203  -0.005569             1.000000   \n",
      "total sulfur dioxide        0.203252   0.043551             0.668426   \n",
      "density                     0.355503   0.197957            -0.023672   \n",
      "pH                         -0.081154  -0.250010             0.076000   \n",
      "sulphates                   0.002378   0.339910             0.043461   \n",
      "alcohol                     0.033380  -0.224965            -0.070382   \n",
      "quality                     0.016464  -0.119770            -0.048641   \n",
      "\n",
      "                      total sulfur dioxide   density        pH  sulphates  \\\n",
      "fixed acidity                    -0.116725  0.670895 -0.685062   0.185061   \n",
      "volatile acidity                  0.077515  0.022390  0.235119  -0.269707   \n",
      "citric acid                       0.033206  0.363162 -0.537645   0.306241   \n",
      "residual sugar                    0.203252  0.355503 -0.081154   0.002378   \n",
      "chlorides                         0.043551  0.197957 -0.250010   0.339910   \n",
      "free sulfur dioxide               0.668426 -0.023672  0.076000   0.043461   \n",
      "total sulfur dioxide              1.000000  0.070240 -0.060311   0.027173   \n",
      "density                           0.070240  1.000000 -0.340093   0.145326   \n",
      "pH                               -0.060311 -0.340093  1.000000  -0.173073   \n",
      "sulphates                         0.027173  0.145326 -0.173073   1.000000   \n",
      "alcohol                          -0.208148 -0.499736  0.211157   0.102423   \n",
      "quality                          -0.185404 -0.173251 -0.063373   0.270777   \n",
      "\n",
      "                       alcohol   quality  \n",
      "fixed acidity        -0.073644  0.127766  \n",
      "volatile acidity     -0.201160 -0.391735  \n",
      "citric acid           0.108285  0.233733  \n",
      "residual sugar        0.033380  0.016464  \n",
      "chlorides            -0.224965 -0.119770  \n",
      "free sulfur dioxide  -0.070382 -0.048641  \n",
      "total sulfur dioxide -0.208148 -0.185404  \n",
      "density              -0.499736 -0.173251  \n",
      "pH                    0.211157 -0.063373  \n",
      "sulphates             0.102423  0.270777  \n",
      "alcohol               1.000000  0.480738  \n",
      "quality               0.480738  1.000000  \n"
     ]
    }
   ],
   "source": [
    "print(\"Correlation\",cor)"
   ]
  },
  {
   "cell_type": "code",
   "execution_count": 17,
   "metadata": {},
   "outputs": [],
   "source": [
    "import seaborn as sns"
   ]
  },
  {
   "cell_type": "code",
   "execution_count": 18,
   "metadata": {},
   "outputs": [
    {
     "data": {
      "text/plain": [
       "<Axes: >"
      ]
     },
     "execution_count": 18,
     "metadata": {},
     "output_type": "execute_result"
    },
    {
     "data": {
      "image/png": "[encoded data removed]",
      "text/plain": [
       "<Figure size 640x480 with 2 Axes>"
      ]
     },
     "metadata": {},
     "output_type": "display_data"
    }
   ],
   "source": [
    "sns.heatmap(df.corr())"
   ]
  },
  {
   "cell_type": "code",
   "execution_count": null,
   "metadata": {},
   "outputs": [],
   "source": []
  }
 ],
 "metadata": {
  "kernelspec": {
   "display_name": "Python 3 (ipykernel)",
   "language": "python",
   "name": "python3"
  },
  "language_info": {
   "codemirror_mode": {
    "name": "ipython",
    "version": 3
   },
   "file_extension": ".py",
   "mimetype": "text/x-python",
   "name": "python",
   "nbconvert_exporter": "python",
   "pygments_lexer": "ipython3",
   "version": "3.11.6"
  }
 },
 "nbformat": 4,
 "nbformat_minor": 4
}
